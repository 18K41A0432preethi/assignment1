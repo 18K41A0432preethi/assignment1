{
  "nbformat": 4,
  "nbformat_minor": 0,
  "metadata": {
    "colab": {
      "name": "pythona1",
      "provenance": [],
      "authorship_tag": "ABX9TyMEbkWV9MKmgTSxV5LRK6lx",
      "include_colab_link": true
    },
    "kernelspec": {
      "name": "python3",
      "display_name": "Python 3"
    }
  },
  "cells": [
    {
      "cell_type": "markdown",
      "metadata": {
        "id": "view-in-github",
        "colab_type": "text"
      },
      "source": [
        "<a href=\"https://colab.research.google.com/github/18K41A0432preethi/assignment1/blob/master/pythona1.ipynb\" target=\"_parent\"><img src=\"https://colab.research.google.com/assets/colab-badge.svg\" alt=\"Open In Colab\"/></a>"
      ]
    },
    {
      "cell_type": "code",
      "metadata": {
        "id": "9Q_GBZzdjQrL",
        "colab_type": "code",
        "colab": {
          "base_uri": "https://localhost:8080/",
          "height": 50
        },
        "outputId": "9ba26537-de9e-4bf3-93ca-67eac6fd2eb1"
      },
      "source": [
        "d={0:'monkey',1:'rooster',2:'dog',3:'pig',4:'rat',5:'ox',6:'tiger',7:'rabbit',8:'dragon',9:'snake',10:'horse',11:'sheep'}\n",
        "x=int(input(\"enter a number\"))\n",
        "y=int(x%12)\n",
        "print(d[y])"
      ],
      "execution_count": null,
      "outputs": [
        {
          "output_type": "stream",
          "text": [
            "enter a number2018\n",
            "dog\n"
          ],
          "name": "stdout"
        }
      ]
    },
    {
      "cell_type": "code",
      "metadata": {
        "id": "dzf0DkEgq9H-",
        "colab_type": "code",
        "colab": {
          "base_uri": "https://localhost:8080/",
          "height": 67
        },
        "outputId": "c967af1e-78bf-464e-ffd1-cd224f1fedea"
      },
      "source": [
        "d=int(input(\"enter the distance covered\"))\n",
        "w=int(input(\"enter the weight\"))\n",
        "if d>=500 and w>=100:\n",
        "    print(\"amount to be charged is :\",d*5)\n",
        "if  d>=500 and 10<=w<100:\n",
        "    print(\"amount to be charged is :\",d*6)\n",
        "if d>=500 and w<10:\n",
        "    print(\"amount to be charged is :\",d*7)\n",
        "if d<500 and w>=100:\n",
        "    print(\"amount to be charged is :\",d*8)\n",
        "if d<500 and w<100:\n",
        "    print(\"amount to be charged is :\",d*5)"
      ],
      "execution_count": null,
      "outputs": [
        {
          "output_type": "stream",
          "text": [
            "enter the distance covered520\n",
            "enter the weight50\n",
            "amount to be charged is : 3120\n"
          ],
          "name": "stdout"
        }
      ]
    },
    {
      "cell_type": "code",
      "metadata": {
        "id": "zwHPoJdYrOJh",
        "colab_type": "code",
        "colab": {
          "base_uri": "https://localhost:8080/",
          "height": 67
        },
        "outputId": "d222aeb1-8737-470d-8234-750153ce328e"
      },
      "source": [
        "s=input(\"enter the type of seat\")\n",
        "p=input(\"enter the payment mode\")\n",
        "if s=='stalls' and p=='cash':\n",
        "    print(\"cost of ticket is \",562.5)\n",
        "if s=='stalls' and p=='card':\n",
        "    print(\"cost of ticket is \",593.75)\n",
        "if s=='circle' and p=='cash':\n",
        "    print(\"cost of ticket is \",675)\n",
        "if s=='circle' and p=='card':\n",
        "    print(\"cost of ticket is \",712.5)\n",
        "if s=='upperclass' and p=='cash':\n",
        "    print(\"cost of ticket is \",765)\n",
        "if s=='upperclass' and p=='card':\n",
        "    print(\"cost of ticket is \",807.5)\n",
        "if s=='box' and p=='cash':\n",
        "    print(\"cost of ticket is \",900)\n",
        "if s=='box' and p=='card':\n",
        "    print(\"cost of ticket is \",950)\n"
      ],
      "execution_count": null,
      "outputs": [
        {
          "output_type": "stream",
          "text": [
            "enter the type of seatcircle\n",
            "enter the payment modecash\n",
            "cost of ticket is  675\n"
          ],
          "name": "stdout"
        }
      ]
    },
    {
      "cell_type": "code",
      "metadata": {
        "id": "dlQMv0tUrYq_",
        "colab_type": "code",
        "colab": {
          "base_uri": "https://localhost:8080/",
          "height": 84
        },
        "outputId": "5f5b0be5-47fc-4df3-aa50-efc850535098"
      },
      "source": [
        "w=int(input(\"enter water weight\"))\n",
        "it=int(input(\"enter initial temp\"))\n",
        "ft=int(input(\"enter final temp\"))\n",
        "e=w*(ft-it)*4184\n",
        "print(\"energy in joules is\",e)"
      ],
      "execution_count": null,
      "outputs": [
        {
          "output_type": "stream",
          "text": [
            "enter water weight3\n",
            "enter initial temp30\n",
            "enter final temp100\n",
            "energy in joules is 878640\n"
          ],
          "name": "stdout"
        }
      ]
    },
    {
      "cell_type": "code",
      "metadata": {
        "id": "6wObQ91OrrE-",
        "colab_type": "code",
        "colab": {
          "base_uri": "https://localhost:8080/",
          "height": 50
        },
        "outputId": "7b2af3d0-89dc-4ea6-ddf4-3c77083f5380"
      },
      "source": [
        "m=input(\"enter the month\")\n",
        "if m=='december' or m=='january' or m=='february':\n",
        "    print(\"winter\")\n",
        "if m=='march' or m=='april' or m=='may':\n",
        "    print(\"spring\")\n",
        "if m=='june' or m=='july' or m=='august':\n",
        "    print(\"summer\")\n",
        "if m=='september' or m=='october' or m=='november':\n",
        "    print(\"autumn\")"
      ],
      "execution_count": null,
      "outputs": [
        {
          "output_type": "stream",
          "text": [
            "enter the monthdecember\n",
            "winter\n"
          ],
          "name": "stdout"
        }
      ]
    },
    {
      "cell_type": "code",
      "metadata": {
        "id": "b0j8to63r54n",
        "colab_type": "code",
        "colab": {
          "base_uri": "https://localhost:8080/",
          "height": 67
        },
        "outputId": "75a34286-1bec-44ea-bb2a-a0b54e9175b4"
      },
      "source": [
        "w=int(input(\"enter the weight in pounds\"))\n",
        "h=int(input(\"enter the height in inches\"))\n",
        "W=w*0.4535\n",
        "H=h*0.025\n",
        "BMI=w/h**2\n",
        "if BMI<18.5:\n",
        "    print(\"underweight\")\n",
        "if 18.5<=BMI<25.0:\n",
        "    print(\"normal\")\n",
        "if 25.0<=BMI<30.0:\n",
        "    print(\"ovderweight\")\n",
        "if 30.0<=BMI:\n",
        "    print(\"obese\")"
      ],
      "execution_count": null,
      "outputs": [
        {
          "output_type": "stream",
          "text": [
            "enter the weight in pounds85\n",
            "enter the height in inches170\n",
            "underweight\n"
          ],
          "name": "stdout"
        }
      ]
    },
    {
      "cell_type": "code",
      "metadata": {
        "id": "TQybUUcUsIFz",
        "colab_type": "code",
        "colab": {
          "base_uri": "https://localhost:8080/",
          "height": 50
        },
        "outputId": "1ccacf71-e534-42c0-bb0c-4ca50a9f003e"
      },
      "source": [
        "n=int(input(\"enter number\"))\n",
        "sum=0\n",
        "if n<1000 and n>100:\n",
        "    while n!=0:\n",
        "        r=n%10\n",
        "        sum=sum+r\n",
        "        n=n//10\n",
        "    print(\"the sum is:\",sum)"
      ],
      "execution_count": null,
      "outputs": [
        {
          "output_type": "stream",
          "text": [
            "enter number750\n",
            "the sum is: 12\n"
          ],
          "name": "stdout"
        }
      ]
    },
    {
      "cell_type": "code",
      "metadata": {
        "id": "wLW0uOxmsPZ1",
        "colab_type": "code",
        "colab": {
          "base_uri": "https://localhost:8080/",
          "height": 1000
        },
        "outputId": "0efb78d8-35e8-4fb5-a86d-8115960243c5"
      },
      "source": [
        "for i in range(1,1000):\n",
        "    prev=i\n",
        "    rev=0\n",
        "    while(i!=0):\n",
        "        r=i%10\n",
        "        rev=rev*10+r\n",
        "        i=i//10\n",
        "        if(prev==rev):\n",
        "            print(\"pallindromes are:\",rev)"
      ],
      "execution_count": null,
      "outputs": [
        {
          "output_type": "stream",
          "text": [
            "pallindromes are: 1\n",
            "pallindromes are: 2\n",
            "pallindromes are: 3\n",
            "pallindromes are: 4\n",
            "pallindromes are: 5\n",
            "pallindromes are: 6\n",
            "pallindromes are: 7\n",
            "pallindromes are: 8\n",
            "pallindromes are: 9\n",
            "pallindromes are: 11\n",
            "pallindromes are: 22\n",
            "pallindromes are: 33\n",
            "pallindromes are: 44\n",
            "pallindromes are: 55\n",
            "pallindromes are: 66\n",
            "pallindromes are: 77\n",
            "pallindromes are: 88\n",
            "pallindromes are: 99\n",
            "pallindromes are: 101\n",
            "pallindromes are: 111\n",
            "pallindromes are: 121\n",
            "pallindromes are: 131\n",
            "pallindromes are: 141\n",
            "pallindromes are: 151\n",
            "pallindromes are: 161\n",
            "pallindromes are: 171\n",
            "pallindromes are: 181\n",
            "pallindromes are: 191\n",
            "pallindromes are: 202\n",
            "pallindromes are: 212\n",
            "pallindromes are: 222\n",
            "pallindromes are: 232\n",
            "pallindromes are: 242\n",
            "pallindromes are: 252\n",
            "pallindromes are: 262\n",
            "pallindromes are: 272\n",
            "pallindromes are: 282\n",
            "pallindromes are: 292\n",
            "pallindromes are: 303\n",
            "pallindromes are: 313\n",
            "pallindromes are: 323\n",
            "pallindromes are: 333\n",
            "pallindromes are: 343\n",
            "pallindromes are: 353\n",
            "pallindromes are: 363\n",
            "pallindromes are: 373\n",
            "pallindromes are: 383\n",
            "pallindromes are: 393\n",
            "pallindromes are: 404\n",
            "pallindromes are: 414\n",
            "pallindromes are: 424\n",
            "pallindromes are: 434\n",
            "pallindromes are: 444\n",
            "pallindromes are: 454\n",
            "pallindromes are: 464\n",
            "pallindromes are: 474\n",
            "pallindromes are: 484\n",
            "pallindromes are: 494\n",
            "pallindromes are: 505\n",
            "pallindromes are: 515\n",
            "pallindromes are: 525\n",
            "pallindromes are: 535\n",
            "pallindromes are: 545\n",
            "pallindromes are: 555\n",
            "pallindromes are: 565\n",
            "pallindromes are: 575\n",
            "pallindromes are: 585\n",
            "pallindromes are: 595\n",
            "pallindromes are: 606\n",
            "pallindromes are: 616\n",
            "pallindromes are: 626\n",
            "pallindromes are: 636\n",
            "pallindromes are: 646\n",
            "pallindromes are: 656\n",
            "pallindromes are: 666\n",
            "pallindromes are: 676\n",
            "pallindromes are: 686\n",
            "pallindromes are: 696\n",
            "pallindromes are: 707\n",
            "pallindromes are: 717\n",
            "pallindromes are: 727\n",
            "pallindromes are: 737\n",
            "pallindromes are: 747\n",
            "pallindromes are: 757\n",
            "pallindromes are: 767\n",
            "pallindromes are: 777\n",
            "pallindromes are: 787\n",
            "pallindromes are: 797\n",
            "pallindromes are: 808\n",
            "pallindromes are: 818\n",
            "pallindromes are: 828\n",
            "pallindromes are: 838\n",
            "pallindromes are: 848\n",
            "pallindromes are: 858\n",
            "pallindromes are: 868\n",
            "pallindromes are: 878\n",
            "pallindromes are: 888\n",
            "pallindromes are: 898\n",
            "pallindromes are: 909\n",
            "pallindromes are: 919\n",
            "pallindromes are: 929\n",
            "pallindromes are: 939\n",
            "pallindromes are: 949\n",
            "pallindromes are: 959\n",
            "pallindromes are: 969\n",
            "pallindromes are: 979\n",
            "pallindromes are: 989\n",
            "pallindromes are: 999\n"
          ],
          "name": "stdout"
        }
      ]
    },
    {
      "cell_type": "code",
      "metadata": {
        "id": "52_B829_sS4z",
        "colab_type": "code",
        "colab": {
          "base_uri": "https://localhost:8080/",
          "height": 168
        },
        "outputId": "dc123eae-2c73-4615-e579-ac475fd3cf08"
      },
      "source": [
        "for i in range(1,1000):\n",
        "    prev=i\n",
        "    sum=0\n",
        "    while(i!=0):\n",
        "        r=i%10\n",
        "        sum=sum+r**3\n",
        "        i=i//10\n",
        "        if(prev==sum):\n",
        "            print(\"armstrong are:\",sum)"
      ],
      "execution_count": null,
      "outputs": [
        {
          "output_type": "stream",
          "text": [
            "armstrong are: 1\n",
            "armstrong are: 64\n",
            "armstrong are: 125\n",
            "armstrong are: 153\n",
            "armstrong are: 216\n",
            "armstrong are: 370\n",
            "armstrong are: 371\n",
            "armstrong are: 407\n",
            "armstrong are: 729\n"
          ],
          "name": "stdout"
        }
      ]
    },
    {
      "cell_type": "code",
      "metadata": {
        "id": "UD1DSFRYsZVV",
        "colab_type": "code",
        "colab": {
          "base_uri": "https://localhost:8080/",
          "height": 1000
        },
        "outputId": "12aa8054-ac9b-4274-a56f-5a9e82f560d2"
      },
      "source": [
        "for i in range(1,100):\n",
        "    if i%3==0:\n",
        "        print(\"Fizz\")\n",
        "    elif i%5==0:\n",
        "         print(\"Buzz\")\n",
        "    elif i%3==0 and i%5==0:\n",
        "         print(\"fiaa buzz\")\n",
        "    else:\n",
        "        print(\" \")"
      ],
      "execution_count": null,
      "outputs": [
        {
          "output_type": "stream",
          "text": [
            " \n",
            " \n",
            "Fizz\n",
            " \n",
            "Buzz\n",
            "Fizz\n",
            " \n",
            " \n",
            "Fizz\n",
            "Buzz\n",
            " \n",
            "Fizz\n",
            " \n",
            " \n",
            "Fizz\n",
            " \n",
            " \n",
            "Fizz\n",
            " \n",
            "Buzz\n",
            "Fizz\n",
            " \n",
            " \n",
            "Fizz\n",
            "Buzz\n",
            " \n",
            "Fizz\n",
            " \n",
            " \n",
            "Fizz\n",
            " \n",
            " \n",
            "Fizz\n",
            " \n",
            "Buzz\n",
            "Fizz\n",
            " \n",
            " \n",
            "Fizz\n",
            "Buzz\n",
            " \n",
            "Fizz\n",
            " \n",
            " \n",
            "Fizz\n",
            " \n",
            " \n",
            "Fizz\n",
            " \n",
            "Buzz\n",
            "Fizz\n",
            " \n",
            " \n",
            "Fizz\n",
            "Buzz\n",
            " \n",
            "Fizz\n",
            " \n",
            " \n",
            "Fizz\n",
            " \n",
            " \n",
            "Fizz\n",
            " \n",
            "Buzz\n",
            "Fizz\n",
            " \n",
            " \n",
            "Fizz\n",
            "Buzz\n",
            " \n",
            "Fizz\n",
            " \n",
            " \n",
            "Fizz\n",
            " \n",
            " \n",
            "Fizz\n",
            " \n",
            "Buzz\n",
            "Fizz\n",
            " \n",
            " \n",
            "Fizz\n",
            "Buzz\n",
            " \n",
            "Fizz\n",
            " \n",
            " \n",
            "Fizz\n",
            " \n",
            " \n",
            "Fizz\n",
            " \n",
            "Buzz\n",
            "Fizz\n",
            " \n",
            " \n",
            "Fizz\n"
          ],
          "name": "stdout"
        }
      ]
    },
    {
      "cell_type": "code",
      "metadata": {
        "id": "Xf8D5LgFsefd",
        "colab_type": "code",
        "colab": {
          "base_uri": "https://localhost:8080/",
          "height": 84
        },
        "outputId": "0ce0f0aa-122c-463c-e0a2-fa0da23fea4e"
      },
      "source": [
        "h=int(input(\"enter the height of well\"))\n",
        "u=int(input(\"metres it climbs up\"))\n",
        "d=int(input(\"metres it slides down\"))\n",
        "if (h-u)%(u-d)==0:\n",
        "    count=1+((h-u)//(u-d))\n",
        "else:\n",
        "    count=2+((h-u)//(u-d))\n",
        "print(\"the number of steps\",count)"
      ],
      "execution_count": null,
      "outputs": [
        {
          "output_type": "stream",
          "text": [
            "enter the height of well200\n",
            "metres it climbs up50\n",
            "metres it slides down1\n",
            "the number of steps 5\n"
          ],
          "name": "stdout"
        }
      ]
    },
    {
      "cell_type": "code",
      "metadata": {
        "id": "Kj8vkCJhsnJW",
        "colab_type": "code",
        "colab": {
          "base_uri": "https://localhost:8080/",
          "height": 403
        },
        "outputId": "360a8f48-ecb8-4d05-f210-36b803ba0f22"
      },
      "source": [
        "print(\"spider program\")\n",
        "h=int(input(\"enter height of well\"))\n",
        "u=int(input(\"enter metres spider climbs up in each step:\"))\n",
        "d=int(input(\"enter spider slipd down in each step:\"))\n",
        "n=0\n",
        "q=0\n",
        "while q<=h :\n",
        "    q=q+u\n",
        "    if q<=h:\n",
        "        q=q-d\n",
        "        n=n+1\n",
        "        print(n)"
      ],
      "execution_count": null,
      "outputs": [
        {
          "output_type": "stream",
          "text": [
            "spider program\n",
            "enter height of well20\n",
            "enter metres spider climbs up in each step:2\n",
            "enter spider slipd down in each step:1\n",
            "1\n",
            "2\n",
            "3\n",
            "4\n",
            "5\n",
            "6\n",
            "7\n",
            "8\n",
            "9\n",
            "10\n",
            "11\n",
            "12\n",
            "13\n",
            "14\n",
            "15\n",
            "16\n",
            "17\n",
            "18\n",
            "19\n"
          ],
          "name": "stdout"
        }
      ]
    }
  ]
}