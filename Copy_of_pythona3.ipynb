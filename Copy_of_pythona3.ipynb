{
  "nbformat": 4,
  "nbformat_minor": 0,
  "metadata": {
    "colab": {
      "name": "Copy of pythona3",
      "provenance": [],
      "collapsed_sections": [],
      "authorship_tag": "ABX9TyOd+2T3jb/lN2z+q3Xw7MFd",
      "include_colab_link": true
    },
    "kernelspec": {
      "name": "python3",
      "display_name": "Python 3"
    }
  },
  "cells": [
    {
      "cell_type": "markdown",
      "metadata": {
        "id": "view-in-github",
        "colab_type": "text"
      },
      "source": [
        "<a href=\"https://colab.research.google.com/github/18K41A0432preethi/assignment1/blob/master/Copy_of_pythona3.ipynb\" target=\"_parent\"><img src=\"https://colab.research.google.com/assets/colab-badge.svg\" alt=\"Open In Colab\"/></a>"
      ]
    },
    {
      "cell_type": "code",
      "metadata": {
        "id": "yySnjNpStMD-",
        "colab_type": "code",
        "colab": {
          "base_uri": "https://localhost:8080/",
          "height": 84
        },
        "outputId": "ea3af289-c931-4bf0-b3eb-b8e6d6defae0"
      },
      "source": [
        "#1.  Area of Triangle \n",
        "# :Given  the  lengths  of  three  sides  of  a  triangle, \n",
        "# calculate  the  area  of the triangle. \n",
        "a=int(input(\"enter 1st length of triangle\"))\n",
        "b=int(input(\"enter 2nd length of triangle\"))\n",
        "c=int(input(\"enter 3rd length of triangle\"))\n",
        "if(a+b>c):\n",
        "  s=(a+b+c)/2\n",
        "  area=(s*(s-a)*(s-b)*(s-c))**(1/2)\n",
        "  print(\"area of triangle is\",area)\n",
        "else : \n",
        "  print(\"the area of triangle is not possible\")"
      ],
      "execution_count": null,
      "outputs": [
        {
          "output_type": "stream",
          "text": [
            "enter 1st length of triangle5\n",
            "enter 2nd length of triangle6\n",
            "enter 3rd length of triangle4\n",
            "area of triangle is 9.921567416492215\n"
          ],
          "name": "stdout"
        }
      ]
    },
    {
      "cell_type": "code",
      "metadata": {
        "id": "wX0McVHKfHOW",
        "colab_type": "code",
        "colab": {}
      },
      "source": [
        ""
      ],
      "execution_count": null,
      "outputs": []
    },
    {
      "cell_type": "code",
      "metadata": {
        "id": "IBFDfMoAtzjI",
        "colab_type": "code",
        "colab": {
          "base_uri": "https://localhost:8080/",
          "height": 50
        },
        "outputId": "7d4fbbb1-49fc-481e-8eb0-1f942be8258f"
      },
      "source": [
        "#2.  Take a string from end user and check if the value is palindrome or not\n",
        "s=str(input(\"enter a string\"))\n",
        "if(s==s[ ::-1]):\n",
        " print('pallindrome')\n",
        "else :\n",
        "   print(\"not pallindrome\")"
      ],
      "execution_count": null,
      "outputs": [
        {
          "output_type": "stream",
          "text": [
            "enter a stringlevel\n",
            "pallindrome\n"
          ],
          "name": "stdout"
        }
      ]
    },
    {
      "cell_type": "code",
      "metadata": {
        "id": "pNL77dy9wjW0",
        "colab_type": "code",
        "colab": {
          "base_uri": "https://localhost:8080/",
          "height": 50
        },
        "outputId": "0a07f819-783a-4fd3-b424-9e037a18315c"
      },
      "source": [
        "#3.  Write a program that reads a year from the user\n",
        "# and displays a message Indicating whether or not it is a leap year.\n",
        "year=int(input(\"enter the year\"))\n",
        "if(year%4==0 and year%100!=0 or year%400==0):\n",
        "  print(\"year is leap\")\n",
        "else:\n",
        "  print(\"year is not leap\")"
      ],
      "execution_count": null,
      "outputs": [
        {
          "output_type": "stream",
          "text": [
            "enter the year1999\n",
            "year is not leap\n"
          ],
          "name": "stdout"
        }
      ]
    },
    {
      "cell_type": "code",
      "metadata": {
        "id": "jR3xclLlz2Z1",
        "colab_type": "code",
        "colab": {
          "base_uri": "https://localhost:8080/",
          "height": 67
        },
        "outputId": "5dcf825a-7853-4719-ad80-ed016b0a290b"
      },
      "source": [
        "#4.   Space To Hyphen problem Take a string as input, and replaces spaces\n",
        "# “ “  with hyphens “-”, and returns a string.Input: “ This program converts spaces into hyphen” \n",
        "#     Output:     “ This-program-converts-spaces-into-hyphen”\n",
        "string=str(input(\"enter a string\"))\n",
        "string=string.replace(' ','-')\n",
        "print(\"modified string:\",string)\n",
        "print(\"string\")\n"
      ],
      "execution_count": null,
      "outputs": [
        {
          "output_type": "stream",
          "text": [
            "enter a stringcarrot apple\n",
            "modified string: carrot-apple\n",
            "string\n"
          ],
          "name": "stdout"
        }
      ]
    },
    {
      "cell_type": "code",
      "metadata": {
        "id": "ubTParN7xlNA",
        "colab_type": "code",
        "colab": {
          "base_uri": "https://localhost:8080/",
          "height": 34
        },
        "outputId": "cefd5a96-a465-4347-9116-04d32b49d7a9"
      },
      "source": [
        "#5.  Unique Sort problem Take  a  string  as  input  that  accepts  a  comma \n",
        "# separated  sequence  of  words as input and prints the unique words in sorted form (alphanumerically).\n",
        "#*Input*: orange, white, red, cyan, green, magenta, cyan, pink, white\n",
        "#*Output*: cyan, green, magenta, orange, pink, red, white\n",
        "matter={'orange','white','red','cyan','green','magenta','cyan','pink','white'}\n",
        "sorted(tuple(set(matter)))"
      ],
      "execution_count": null,
      "outputs": [
        {
          "output_type": "execute_result",
          "data": {
            "text/plain": [
              "['cyan', 'green', 'magenta', 'orange', 'pink', 'red', 'white']"
            ]
          },
          "metadata": {
            "tags": []
          },
          "execution_count": 10
        }
      ]
    },
    {
      "cell_type": "code",
      "metadata": {
        "id": "2y2GZ4dkyfwY",
        "colab_type": "code",
        "colab": {
          "base_uri": "https://localhost:8080/",
          "height": 34
        },
        "outputId": "525b4aae-4510-4b46-8c71-1ff4a3a31f92"
      },
      "source": [
        "#7.  Take a list of integers as an argument, and\n",
        "# converts it into a single integer (return the integer).\n",
        "#*Input*: [11, 33, 50]*Output*: 113350\n",
        "list = [11,33,50]\n",
        "for i in list:\n",
        "  print(i, end='')\n"
      ],
      "execution_count": null,
      "outputs": [
        {
          "output_type": "stream",
          "text": [
            "113350"
          ],
          "name": "stdout"
        }
      ]
    },
    {
      "cell_type": "code",
      "metadata": {
        "id": "ZmCZDywDGAeb",
        "colab_type": "code",
        "colab": {
          "base_uri": "https://localhost:8080/",
          "height": 101
        },
        "outputId": "1bbacefa-a865-482a-eaf0-bdb5c17f523e"
      },
      "source": [
        "#8.  Units of Time\n",
        "#Create  a  program  that  reads  duration  from  the  user  as  a  number \n",
        "# of  days, hours,  minutes,  and  seconds.  Compute  and  \n",
        "#display  the  total  number  of seconds represented by this duration. \n",
        "days=int(input('enter days'))*3600\n",
        "hours=int(input('enter hours'))*3600\n",
        "mins=int(input(\"enter mins\"))*60\n",
        "secs=int(input('enter secs'))\n",
        "tsecs=days+hours+mins+secs\n",
        "print(\"total seconds in this duration are:\",tsecs)"
      ],
      "execution_count": null,
      "outputs": [
        {
          "output_type": "stream",
          "text": [
            "enter days3\n",
            "enter hours48\n",
            "enter mins60\n",
            "enter secs50\n",
            "total seconds in this duration are: 187250\n"
          ],
          "name": "stdout"
        }
      ]
    },
    {
      "cell_type": "code",
      "metadata": {
        "id": "wVJrfMjBHKGi",
        "colab_type": "code",
        "colab": {
          "base_uri": "https://localhost:8080/",
          "height": 84
        },
        "outputId": "f70dd2f0-edd6-4d03-b87a-868c7db8ad44"
      },
      "source": [
        "#9.  Sort 3 IntegersGiven  three  integers  (given  through  user  input),\n",
        "#  sort  the  numbers  using |min| and  |max| functions.\n",
        "a=int(input(\"enter first number\"))\n",
        "b=int(input(\"enter second number\"))\n",
        "c=int(input(\"enter third number\"))\n",
        "x=min(a,b,c)\n",
        "y=max(a,b,c)\n",
        "z=a+b+c-(x+y)\n",
        "print(\"three integers are :\",x,z,y)"
      ],
      "execution_count": 8,
      "outputs": [
        {
          "output_type": "stream",
          "text": [
            "enter first number40\n",
            "enter second number10\n",
            "enter third number60\n",
            "three integers are : 10 40 60\n"
          ],
          "name": "stdout"
        }
      ]
    },
    {
      "cell_type": "code",
      "metadata": {
        "id": "WOB8HmxmJv5j",
        "colab_type": "code",
        "colab": {
          "base_uri": "https://localhost:8080/",
          "height": 34
        },
        "outputId": "136be4fe-3728-4d1d-fb0d-5da89fe01d2f"
      },
      "source": [
        "#11.Compute product of a list of numbers [45 ,3,2,89,72,1,10,7]\n",
        "#Output: 121111200\n",
        "import numpy\n",
        "list = [45,3,2,89,72,1,10,7]\n",
        "result= numpy.prod(list)\n",
        "print(result)"
      ],
      "execution_count": null,
      "outputs": [
        {
          "output_type": "stream",
          "text": [
            "121111200\n"
          ],
          "name": "stdout"
        }
      ]
    },
    {
      "cell_type": "code",
      "metadata": {
        "id": "XW8JLhVBOkbK",
        "colab_type": "code",
        "colab": {
          "base_uri": "https://localhost:8080/",
          "height": 50
        },
        "outputId": "ea61ddda-2676-446e-abdb-ccb9d1980150"
      },
      "source": [
        "#14. Write a Python code that takes a number and returns a list of its digits. \n",
        "#So for 586392 it should return [5,8,6,3,9,2]\n",
        "a=586392\n",
        "print(\"the original number is\" +str(a))\n",
        "res=[int(x) for x in str(a)]\n",
        "print(\"out_list \"+str(res))\n"
      ],
      "execution_count": null,
      "outputs": [
        {
          "output_type": "stream",
          "text": [
            "the original number is586392\n",
            "out_list [5, 8, 6, 3, 9, 2]\n"
          ],
          "name": "stdout"
        }
      ]
    },
    {
      "cell_type": "code",
      "metadata": {
        "id": "SE-ojI2JSGqc",
        "colab_type": "code",
        "colab": {
          "base_uri": "https://localhost:8080/",
          "height": 67
        },
        "outputId": "a1b393fe-c3df-45a5-f280-078aa6d59301"
      },
      "source": [
        "#16. Substring Check (Bug Funny)Given two binary strings, A (of length 10) and\n",
        "# B (of length 5), output 1 if B is a substring of A and 0 otherwise.\n",
        "a=input(\"enter string1\")\n",
        "b=input(\"enter string2\")\n",
        "if b in a :\n",
        "  print('output is 1')\n",
        "else:\n",
        "    print('output is 0')"
      ],
      "execution_count": null,
      "outputs": [
        {
          "output_type": "stream",
          "text": [
            "enter string11010110010\n",
            "enter string210110\n",
            "output is 1\n"
          ],
          "name": "stdout"
        }
      ]
    },
    {
      "cell_type": "code",
      "metadata": {
        "id": "9vrVedU-PLbw",
        "colab_type": "code",
        "colab": {
          "base_uri": "https://localhost:8080/",
          "height": 50
        },
        "outputId": "fff69958-6b0b-44af-b733-89587e3b1a11"
      },
      "source": [
        "#10.Write  a  program  that  reads  a  date  from  the  user \n",
        "# and  computes  its immediate successor. The date is the format YYYY-MM-DD.\n",
        "# So, 2020-04-15 will have the successor 2020-04-16.\n",
        "date=input(\"enter date in format YYYY-MM-DD\")\n",
        "date=date.replace(\"-\",\" \")\n",
        "date=date.split(\" \")\n",
        "d=[int(num) for num in date]\n",
        "if d[1] in (1,3,5,7,8,10,12):\n",
        "  monthdays=31\n",
        "elif d[1]==2:\n",
        "  if d[0]%4==0:\n",
        "    monthdays=29\n",
        "  else:\n",
        "      monthdays=28\n",
        "else:\n",
        " monthdays=30\n",
        "if d[2]<monthdays:\n",
        "          d[2]+=1\n",
        "else:\n",
        "  d[2]=1\n",
        "  if d[1]==12:\n",
        "       d[1]=1\n",
        "       d[0]+=1\n",
        "  else:\n",
        "      d[1]+=1\n",
        "d=[str(num) for num in d]\n",
        "d=','.join(d)\n",
        "print(d.replace(',','-'))"
      ],
      "execution_count": null,
      "outputs": [
        {
          "output_type": "stream",
          "text": [
            "enter date in format YYYY-MM-DD2020-08-21\n",
            "2020-8-22\n"
          ],
          "name": "stdout"
        }
      ]
    },
    {
      "cell_type": "code",
      "metadata": {
        "id": "NTDjsIpURfr2",
        "colab_type": "code",
        "colab": {
          "base_uri": "https://localhost:8080/",
          "height": 50
        },
        "outputId": "6fd321a9-1dad-48b0-b7ad-3487ab2cd421"
      },
      "source": [
        "#13. Compute given Num_tuple =  (5, 6,8 ,3,9,1) to get desired \n",
        "#Output: Out_list = [5, 30, 240, 720, 6480, 6480]\n",
        "input=[(1,5),(5,6),(30,8),(240,3),(720,9),(6480,1)]\n",
        "output=[]\n",
        "for elem in input:\n",
        "  temp=elem[0]*elem[1]\n",
        "  output.append(temp)\n",
        "print(\"outputlist of tuple:\")\n",
        "print(output)"
      ],
      "execution_count": null,
      "outputs": [
        {
          "output_type": "stream",
          "text": [
            "outputlist of tuple:\n",
            "[5, 30, 240, 720, 6480, 6480]\n"
          ],
          "name": "stdout"
        }
      ]
    },
    {
      "cell_type": "code",
      "metadata": {
        "id": "IBy7Tj9yAe_f",
        "colab_type": "code",
        "colab": {
          "base_uri": "https://localhost:8080/",
          "height": 34
        },
        "outputId": "69b8ccdf-28f9-49d4-b45b-d79ed545910e"
      },
      "source": [
        "#15.Write a program that finds the longest palindromic substring of a given string\n",
        "class solution(object):\n",
        "  def longestpalindrome(self,s):\n",
        "        obj=[[False for i in range(len(s))] for i in range(len(s))]\n",
        "        for i in range(len(s)):\n",
        "             obj[i][i]=True \n",
        "        maxlength=1\n",
        "        start=0\n",
        "        for l in range(2,len(s)+1):\n",
        "         for i in range(len(s)-l+1):\n",
        "             end=i+l\n",
        "             if l==2:\n",
        "                 if s[i]==s[end-1]:\n",
        "                    obj[i][end-1]=True\n",
        "                    maxlength=l\n",
        "                    start=i\n",
        "             else:\n",
        "                 if s[i]==s[end-1] and obj[i+1][end-2]:\n",
        "                        obj[i][end-1]=True \n",
        "                        maxlength=l \n",
        "                        start=i \n",
        "         return s[start:start+maxlength]\n",
        "ob1=solution()\n",
        "print(ob1.longestpalindrome(\"peekppeek\"))"
      ],
      "execution_count": null,
      "outputs": [
        {
          "output_type": "stream",
          "text": [
            "ee\n"
          ],
          "name": "stdout"
        }
      ]
    },
    {
      "cell_type": "code",
      "metadata": {
        "id": "jwZQw64lDVJl",
        "colab_type": "code",
        "colab": {
          "base_uri": "https://localhost:8080/",
          "height": 50
        },
        "outputId": "0ea79f63-de27-495a-aa1d-769a30bd4ab3"
      },
      "source": [
        "#6. Tax Calculator\n",
        "#   Ask the user for their monthly salary. Calculate whether they have to pay tax and if so,\n",
        "#   how much is that amount.Print the result.\n",
        "sal=int(input(\"Enter salary : \"))\n",
        "if (sal>=0) and (sal<=250000):\n",
        "    tax=(sal*0)\n",
        "elif (sal>250000) and (sal<=500000):\n",
        "    tax=(sal*0.05)\n",
        "elif (sal>500000) and (sal<=750000):\n",
        "    tax=(sal*0.1)\n",
        "elif (sal>750000) and (sal<=1000000):\n",
        "    tax=(sal*0.15)\n",
        "elif (sal>1000000) and (sal<=1250000):\n",
        "    tax=(sal*0.2)\n",
        "elif (sal>1250000) and (sal<=1500000):\n",
        "    tax=(sal*0.25)\n",
        "elif (sal>1500000):\n",
        "    tax=(sal*0.3)\n",
        "print(\"Tax is : \",tax)"
      ],
      "execution_count": null,
      "outputs": [
        {
          "output_type": "stream",
          "text": [
            "Enter salary : 250000\n",
            "Tax is :  0\n"
          ],
          "name": "stdout"
        }
      ]
    },
    {
      "cell_type": "code",
      "metadata": {
        "id": "ZdW6ynNqBCHA",
        "colab_type": "code",
        "colab": {
          "base_uri": "https://localhost:8080/",
          "height": 34
        },
        "outputId": "bcfb6e6c-15a8-41a4-c53d-1d1e1b7f3dd7"
      },
      "source": [
        "#12.compute given x=[5,6,8,34,89,1] to get desired output\n",
        "output : [11,14,42,123,90]\n",
        "x=[5,6,8,34,89,1]\n",
        "lis=list()\n",
        "for i in range(len(x)-1):\n",
        "    lis.append(x[i]+x[i+1])\n",
        "print(lis)\n"
      ],
      "execution_count": null,
      "outputs": [
        {
          "output_type": "stream",
          "text": [
            "[11, 14, 42, 123, 90]\n"
          ],
          "name": "stdout"
        }
      ]
    },
    {
      "cell_type": "code",
      "metadata": {
        "id": "0Zhya_PnLaAi",
        "colab_type": "code",
        "colab": {
          "base_uri": "https://localhost:8080/",
          "height": 134
        },
        "outputId": "2c939fba-c776-4659-f51d-5b4f0450617f"
      },
      "source": [
        "#17  POUR1 - Pouring waterGiven two vessels, one of which can accommodate a litres of water and the other - b litres   of   water,  \n",
        "# determine   the   number   of   steps   required   to   obtain exactly c litres of water in one of the vessels.\n",
        "# At the beginning both vessels are empty. The following operations are counted as\n",
        "# 'steps':emptying a vessel,filling a vessel,pouring water from one vessel to the other, without spilling, until one of the vessels is either full or empty.\n",
        "def gcd(a,b):\n",
        "    if b==0: \n",
        "        return a \n",
        "    return gcd(b,a%b) \n",
        "\n",
        "def countsteps(a,b,c): \n",
        "    v1=b\n",
        "    v2=0\n",
        "    count=1\n",
        "    while ((v1 is not c) and (v2 is not c)): \n",
        "        temp =min(v1,a-v2) \n",
        "        v2=v2+temp \n",
        "        v1=v1- temp \n",
        "        count=count+1\n",
        "        if ((v2==c)or(v1==c)): \n",
        "            break\n",
        "        if v1==0: \n",
        "            v1=b \n",
        "            count=count+1\n",
        "        if v2==a: \n",
        "            v2=0\n",
        "            count=count+1\n",
        "    return count \n",
        "\n",
        "def ispossible(a,b,c): \n",
        "    if a>b: \n",
        "        temp=a \n",
        "        a=b \n",
        "        b=temp \n",
        "    if c>b: \n",
        "        return -1\n",
        "    if (c%(gcd(b,a)) is not 0): \n",
        "        return -1\n",
        "    return(min(countsteps(b,a,c),countsteps(a,b,c)))\n",
        "\n",
        "print('enter capacity of vessel a : ')\n",
        "a=int(input())\n",
        "print('enter capacity of vessel b : ')\n",
        "b=int(input())\n",
        "print('enter capacity to be obtained :')\n",
        "c=int(input())\n",
        "print('Minimum number of steps required is',ispossible(a,b,c))"
      ],
      "execution_count": null,
      "outputs": [
        {
          "output_type": "stream",
          "text": [
            "enter capacity of vessel a : \n",
            "10\n",
            "enter capacity of vessel b : \n",
            "20\n",
            "enter capacity to be obtained :\n",
            "10\n",
            "Minimum number of steps required is 1\n"
          ],
          "name": "stdout"
        }
      ]
    },
    {
      "cell_type": "code",
      "metadata": {
        "id": "yR5z7tvMD2HK",
        "colab_type": "code",
        "colab": {}
      },
      "source": [
        ""
      ],
      "execution_count": null,
      "outputs": []
    }
  ]
}